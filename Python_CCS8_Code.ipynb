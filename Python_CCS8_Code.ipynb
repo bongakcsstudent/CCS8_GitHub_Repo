{
  "nbformat": 4,
  "nbformat_minor": 0,
  "metadata": {
    "colab": {
      "provenance": [],
      "authorship_tag": "ABX9TyPJLhxV72UtkRismhMySa0D",
      "include_colab_link": true
    },
    "kernelspec": {
      "name": "python3",
      "display_name": "Python 3"
    },
    "language_info": {
      "name": "python"
    }
  },
  "cells": [
    {
      "cell_type": "markdown",
      "metadata": {
        "id": "view-in-github",
        "colab_type": "text"
      },
      "source": [
        "<a href=\"https://colab.research.google.com/github/bongakcsstudent/CCS8_GitHub_Repo/blob/main/Python_CCS8_Code.ipynb\" target=\"_parent\"><img src=\"https://colab.research.google.com/assets/colab-badge.svg\" alt=\"Open In Colab\"/></a>"
      ]
    },
    {
      "cell_type": "code",
      "execution_count": 1,
      "metadata": {
        "colab": {
          "base_uri": "https://localhost:8080/"
        },
        "id": "B5n5aYUNPIYy",
        "outputId": "00874235-e119-4f3d-9913-b9ac6930718c"
      },
      "outputs": [
        {
          "output_type": "execute_result",
          "data": {
            "text/plain": [
              "{'divide': 'warn', 'over': 'warn', 'under': 'ignore', 'invalid': 'warn'}"
            ]
          },
          "metadata": {},
          "execution_count": 1
        }
      ],
      "source": [
        "import numpy as np\n",
        "import pandas as pd\n",
        "import matplotlib.pyplot as plt\n",
        "from keras.datasets import mnist\n",
        "import tensorflow as tf\n",
        "tf.test.gpu_device_name()\n",
        "np.seterr(over='ignore')"
      ]
    },
    {
      "cell_type": "code",
      "source": [
        "(X_train, y_train), (X_test, y_test) = mnist.load_data()"
      ],
      "metadata": {
        "colab": {
          "base_uri": "https://localhost:8080/"
        },
        "id": "FyGHNzspPSh_",
        "outputId": "6ebbb3b9-0b32-42f8-cc44-3904f2b10dd9"
      },
      "execution_count": 2,
      "outputs": [
        {
          "output_type": "stream",
          "name": "stdout",
          "text": [
            "Downloading data from https://storage.googleapis.com/tensorflow/tf-keras-datasets/mnist.npz\n",
            "\u001b[1m11490434/11490434\u001b[0m \u001b[32m━━━━━━━━━━━━━━━━━━━━\u001b[0m\u001b[37m\u001b[0m \u001b[1m0s\u001b[0m 0us/step\n"
          ]
        }
      ]
    },
    {
      "cell_type": "code",
      "source": [
        "idx_train_0 = np.where(y_train == 0)[0]\n",
        "idx_train_1 = np.where(y_train == 1)[0]\n",
        "idx_test_0 = np.where(y_test == 0)[0]\n",
        "idx_test_1 = np.where(y_test == 1)[0]\n",
        "\n",
        "X_train = np.concatenate((X_train[idx_train_0], X_train[idx_train_1]), axis=0)\n",
        "y_train = np.concatenate((y_train[idx_train_0], y_train[idx_train_1]), axis=0)\n",
        "X_test = np.concatenate((X_test[idx_test_0], X_test[idx_test_1]), axis=0)\n",
        "y_test = np.concatenate((y_test[idx_test_0], y_test[idx_test_1]), axis=0)"
      ],
      "metadata": {
        "id": "e8_IFucwPUS-"
      },
      "execution_count": 3,
      "outputs": []
    },
    {
      "cell_type": "code",
      "source": [
        "print('X_train: ' + str(X_train.shape))\n",
        "print('Y_train: ' + str(y_train.shape))\n",
        "print('X_test:  '  + str(X_test.shape))\n",
        "print('Y_test:  '  + str(y_test.shape))"
      ],
      "metadata": {
        "colab": {
          "base_uri": "https://localhost:8080/"
        },
        "id": "J9JII39rPV3e",
        "outputId": "d9e38cbf-457e-40ff-b6e6-1496b4c38648"
      },
      "execution_count": 4,
      "outputs": [
        {
          "output_type": "stream",
          "name": "stdout",
          "text": [
            "X_train: (12665, 28, 28)\n",
            "Y_train: (12665,)\n",
            "X_test:  (2115, 28, 28)\n",
            "Y_test:  (2115,)\n"
          ]
        }
      ]
    },
    {
      "cell_type": "code",
      "source": [
        "for i in range(9):\n",
        "    plt.subplot(330 + 1 + i)\n",
        "    plt.imshow(X_train[i], cmap=plt.get_cmap('gray'))\n",
        "plt.show()"
      ],
      "metadata": {
        "colab": {
          "base_uri": "https://localhost:8080/",
          "height": 433
        },
        "id": "mGIjGFPhPY2e",
        "outputId": "153b670c-8f0b-492b-8f3c-5f4f4d64fcec"
      },
      "execution_count": 5,
      "outputs": [
        {
          "output_type": "display_data",
          "data": {
            "text/plain": [
              "<Figure size 640x480 with 9 Axes>"
            ],
            "image/png": "[encoded data removed]"
          },
          "metadata": {}
        }
      ]
    },
    {
      "cell_type": "code",
      "source": [
        "def standardize(X,X_train):\n",
        "    return (X-np.mean(X_train,axis=0))/(np.std(X_train,axis=0) + 1e-7) # we need epsilon for feature (pixel) that has zero variance"
      ],
      "metadata": {
        "id": "aeMbCltzPZQ-"
      },
      "execution_count": 6,
      "outputs": []
    },
    {
      "cell_type": "code",
      "source": [
        "X_train = X_train.astype('float32')\n",
        "X_test = X_test.astype('float32')\n",
        "\n",
        "X_train=X_train.reshape(X_train.shape[0],-1)\n",
        "X_test=X_test.reshape(X_test.shape[0],-1)"
      ],
      "metadata": {
        "id": "DSt4htSVPbbv"
      },
      "execution_count": 7,
      "outputs": []
    },
    {
      "cell_type": "code",
      "source": [
        "def Shuffle(X,y):\n",
        "\n",
        "    indices = np.arange(X.shape[0])\n",
        "\n",
        "    np.random.shuffle(indices)\n",
        "\n",
        "    X = X[indices]\n",
        "    y = y[indices]\n",
        "    return X,y"
      ],
      "metadata": {
        "id": "NTdHxxvjPeoe"
      },
      "execution_count": 8,
      "outputs": []
    },
    {
      "cell_type": "code",
      "source": [
        "\n",
        "def K_Folds(X,y,k):\n",
        "    Fold_size=((100/k)/100) * X.shape[0]\n",
        "    Fold_start=0\n",
        "    Fold_limit=0\n",
        "\n",
        "    Folds={\n",
        "\n",
        "    }\n",
        "    for i in range(k):\n",
        "        Fold_limit+=Fold_size\n",
        "\n",
        "        Folds['Fold'+str(i+1)]=[X[int(Fold_start):int(Fold_limit)],y[int(Fold_start):int(Fold_limit)]]\n",
        "        Fold_start=Fold_limit\n",
        "    return Folds"
      ],
      "metadata": {
        "id": "_vO1rFVePfTW"
      },
      "execution_count": 9,
      "outputs": []
    },
    {
      "cell_type": "code",
      "source": [
        "\n",
        "def CVs(Folds,k):\n",
        "\n",
        "    train_val_CV={\n",
        "\n",
        "    }\n",
        "\n",
        "    for i in range(k):\n",
        "\n",
        "        X_train_Fold=np.zeros(Folds['Fold'+str(1)][0].shape)\n",
        "        y_train_Fold=np.zeros(Folds['Fold'+str(1)][1].shape)\n",
        "\n",
        "        X_val_Fold,y_val_Fold=Folds['Fold'+str(i+1)][0],Folds['Fold'+str(i+1)][1]\n",
        "        cn=0\n",
        "        for j in range(k):\n",
        "            if i!=j:\n",
        "                X_train_Fold_j,y_train_Fold_j=Folds['Fold'+str(j+1)][0],Folds['Fold'+str(j+1)][1]\n",
        "\n",
        "                if cn==0:\n",
        "                    X_train_Fold=X_train_Fold_j\n",
        "                    y_train_Fold=y_train_Fold_j\n",
        "                    cn+=1\n",
        "                else:\n",
        "\n",
        "                    X_train_Fold=np.concatenate((X_train_Fold,X_train_Fold_j), axis=0)\n",
        "                    y_train_Fold=np.concatenate((y_train_Fold, y_train_Fold_j), axis=0)\n",
        "\n",
        "        train_val_CV['CV'+str(i+1)]=[X_train_Fold,y_train_Fold,X_val_Fold,y_val_Fold]\n",
        "    return train_val_CV"
      ],
      "metadata": {
        "id": "N-RVVoXHPg6-"
      },
      "execution_count": 10,
      "outputs": []
    },
    {
      "cell_type": "code",
      "source": [
        "def Accuracy(y_pred,y_test):\n",
        "\n",
        "    Acc=(np.sum(y_pred==y_test)/len(y_test)) * 100\n",
        "    return round(Acc,1)"
      ],
      "metadata": {
        "id": "buo6BY5XPilO"
      },
      "execution_count": 11,
      "outputs": []
    },
    {
      "cell_type": "code",
      "source": [
        "def Error(y_pred,y_test):\n",
        "    return np.sum((y_test * np.log(y_pred+1e-10) + (1-y_test) * np.log(1-y_pred+1e-10))) * -1/len(y_test)"
      ],
      "metadata": {
        "id": "KI-Uyji2Plc-"
      },
      "execution_count": 12,
      "outputs": []
    },
    {
      "cell_type": "code",
      "source": [
        "def sigmoid(z):\n",
        "    return 1/(1+np.exp(-z))"
      ],
      "metadata": {
        "id": "TTidN4ywPnYv"
      },
      "execution_count": 13,
      "outputs": []
    },
    {
      "cell_type": "code",
      "source": [
        "def Logistic_Regression(X,y,epochs,eta):\n",
        "    W=np.random.randn(X.shape[1])\n",
        "    b=np.random.randn()\n",
        "    error=0\n",
        "\n",
        "    for j in range(epochs):\n",
        "        yhat= np.dot(W,X.T) + b\n",
        "\n",
        "        Z=sigmoid(yhat)\n",
        "        error= Error(Z,y)\n",
        "\n",
        "        W= W - eta * np.mean((Z-y) * X.T)\n",
        "        b= b- eta * np.mean(Z-y)\n",
        "\n",
        "    print(\"Training_Error: \",error)\n",
        "    return W,b"
      ],
      "metadata": {
        "id": "gwOQ82MMPpEO"
      },
      "execution_count": 14,
      "outputs": []
    },
    {
      "cell_type": "code",
      "source": [
        "\n",
        "def test_model(W,b,X_test,y_test):\n",
        "    y_pred= np.dot(W,X_test.T) + b\n",
        "    Z=sigmoid(y_pred)\n",
        "    Z[Z<0.5]=0\n",
        "    Z[Z>0.5]=1\n",
        "    return Accuracy(Z.astype(np.int32),y_test)"
      ],
      "metadata": {
        "id": "cqqx2-aZPrK-"
      },
      "execution_count": 15,
      "outputs": []
    },
    {
      "cell_type": "code",
      "source": [
        "def train_CVs(train_val_CV,k,eta):\n",
        "    epochs=1500\n",
        "    Accs=np.zeros(k)\n",
        "\n",
        "    for i in range(k):\n",
        "        W,b=Logistic_Regression(train_val_CV['CV'+str(i+1)][0],train_val_CV['CV'+str(i+1)][1],epochs,eta)\n",
        "        Acc=test_model(W,b,train_val_CV['CV'+str(i+1)][2],train_val_CV['CV'+str(i+1)][3])\n",
        "        Accs[i]=Acc\n",
        "    print(\"----------------------------------------------------------------------------------\")\n",
        "\n",
        "    return round(np.mean(Accs),1)"
      ],
      "metadata": {
        "id": "kGYf5X5JPs--"
      },
      "execution_count": 16,
      "outputs": []
    },
    {
      "cell_type": "code",
      "source": [
        "def Acc_eta(train_val_CV,k):\n",
        "    eta=[0.1,0.01,0.001,0.0001]\n",
        "    Avg_Accs=np.zeros(len(eta))\n",
        "\n",
        "    eta_and_Acc={\n",
        "\n",
        "    }\n",
        "    for i in range(len(eta)):\n",
        "        eta_and_Acc[eta[i]]=train_CVs(train_val_CV,k,eta[i])\n",
        "\n",
        "    return eta_and_Acc"
      ],
      "metadata": {
        "id": "AOQugiwPPtq2"
      },
      "execution_count": 17,
      "outputs": []
    },
    {
      "cell_type": "code",
      "source": [
        "def K_Fold_CV(X,y,k):\n",
        "    X,y=Shuffle(X,y)\n",
        "    Folds=K_Folds(X,y,k)\n",
        "    train_val_CV=CVs(Folds,k)\n",
        "    eta_and_Acc=Acc_eta(train_val_CV,k)\n",
        "    return eta_and_Acc\n",
        "\n",
        "eta_and_Acc=K_Fold_CV(X_train,y_train,10)\n",
        "print(\"Learning rates and their Accuracies: \",eta_and_Acc)"
      ],
      "metadata": {
        "colab": {
          "base_uri": "https://localhost:8080/"
        },
        "id": "MN5AlDntPwDX",
        "outputId": "4d86e57e-ec0c-464e-d0ab-e39a268452ef"
      },
      "execution_count": null,
      "outputs": [
        {
          "output_type": "stream",
          "name": "stdout",
          "text": [
            "Training_Error:  12.235071416976503\n"
          ]
        }
      ]
    }
  ]
}